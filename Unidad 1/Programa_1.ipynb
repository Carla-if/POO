{
  "nbformat": 4,
  "nbformat_minor": 0,
  "metadata": {
    "colab": {
      "provenance": [],
      "authorship_tag": "ABX9TyNL9u9jKv9TaK6QWDOKzhQv",
      "include_colab_link": true
    },
    "kernelspec": {
      "name": "python3",
      "display_name": "Python 3"
    },
    "language_info": {
      "name": "python"
    }
  },
  "cells": [
    {
      "cell_type": "markdown",
      "metadata": {
        "id": "view-in-github",
        "colab_type": "text"
      },
      "source": [
        "<a href=\"https://colab.research.google.com/github/Carla-if/POO/blob/main/Unidad%201/Programa_1.ipynb\" target=\"_parent\"><img src=\"https://colab.research.google.com/assets/colab-badge.svg\" alt=\"Open In Colab\"/></a>"
      ]
    },
    {
      "cell_type": "markdown",
      "source": [
        "#Programacion Orientada a Objetos\n",
        "\n",
        "## Unidad 1. Introduccion a POO\n",
        "\n",
        "### Maestra: Jose Gabriel Rodriguez Rivas\n",
        "\n",
        "### Alumno: Carla Iberia Carrillo Ferrer"
      ],
      "metadata": {
        "id": "MipIEJ8d5siQ"
      }
    },
    {
      "cell_type": "markdown",
      "source": [],
      "metadata": {
        "id": "33xpZocK5psw"
      }
    },
    {
      "cell_type": "code",
      "source": [
        "# Declarar variables\n",
        "# En python no hay necesidad de declarar el tipo de variable\n",
        "# Cuando se le asigna el valor, automatico python ya sabe de que tipo es\n",
        "# Python es CASE SENSITIVE es decir que es sensible a mayusculas a la hora de\n",
        "# declarar variables, por lo tanto no es lo mismo la variable x, que la variable X\n",
        "X=5\n",
        "msg= \"Hola Mundo\"\n",
        "# Python es debilmente tipado, es decir, no hay necesidad de declarar el tipo de\n",
        "# variable, y ademas, la misma variable en un momento puede ser entera y en otra string\n",
        "# o booleana\n",
        "print(type(X))\n",
        "X= \"Hola\"\n",
        "print(type(X))"
      ],
      "metadata": {
        "id": "5ugybrBN407Y"
      },
      "execution_count": null,
      "outputs": []
    }
  ]
}