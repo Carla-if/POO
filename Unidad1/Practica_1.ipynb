{
  "nbformat": 4,
  "nbformat_minor": 0,
  "metadata": {
    "colab": {
      "provenance": [],
      "authorship_tag": "ABX9TyN+YNHTtGlxXtdzIBOTYgSr",
      "include_colab_link": true
    },
    "kernelspec": {
      "name": "python3",
      "display_name": "Python 3"
    },
    "language_info": {
      "name": "python"
    }
  },
  "cells": [
    {
      "cell_type": "markdown",
      "metadata": {
        "id": "view-in-github",
        "colab_type": "text"
      },
      "source": [
        "<a href=\"https://colab.research.google.com/github/Carla-if/POO/blob/main/Unidad1/Practica_1.ipynb\" target=\"_parent\"><img src=\"https://colab.research.google.com/assets/colab-badge.svg\" alt=\"Open In Colab\"/></a>"
      ]
    },
    {
      "cell_type": "markdown",
      "source": [
        "![image](https://github.com/JoseGabriel-ITD/Probabilidad-y-Estadistica/blob/main/Cintilla2004.png?raw=true)\n",
        "\n",
        "# **Programacion Orientada a Objetos**\n",
        "\n",
        "## Unidad 1\n",
        "\n",
        "### Practica 1: Sistema de Librerias (Clases)\n",
        "\n",
        "### Facilitador: *Dr. José Gabriel Rodríguez Rivas*\n",
        "\n",
        "### Alumno: Carla Iberia Carrillo Ferrer"
      ],
      "metadata": {
        "id": "cfF9auNA2Ym8"
      }
    },
    {
      "cell_type": "code",
      "source": [
        "from datetime import date"
      ],
      "metadata": {
        "id": "Thk0rgjmyKnD"
      },
      "execution_count": null,
      "outputs": []
    },
    {
      "cell_type": "code",
      "execution_count": null,
      "metadata": {
        "id": "cefjtEejgPaA"
      },
      "outputs": [],
      "source": [
        "# Definir una clase libro\n",
        "# Cada objeto creado a  partir de esta clase\n",
        "# En phyton, self es una referencia al objeto actual (es decir, a si mismo).\n",
        "# Se utiliza para acceder a los atributos y metodos de la clase.\n",
        "\n",
        "#__init__() es un metodo especial llamado'constructor'.\n",
        "#Se ejecuta automaticamente cuando se crea una nueva instancia (objeto) de la clase\n",
        "# Sirve para inicializar los atributos del objeto con los valores que se le pasen.\n",
        "\n",
        "class Libro:\n",
        "  def __init__(self, titulo, autor, isbn,  precio):  # Constructor de la clase\n",
        "    self.titulo = titulo\n",
        "    self.autor = autor\n",
        "    self.isbn = isbn\n",
        "    self.precio = precio\n",
        "\n",
        "  def mostrar_info(self):       # Metodo\n",
        "    return f\" Titulo: {self.titulo}, por {self.autor}, - ISBN: {self.isbn}, Precio: ${self.precio}\"\n",
        "\n",
        "  def __str__(self):  # Este método se llama cuando usas print(libro)\n",
        "        return f\"{self.titulo} por {self.autor}\""
      ]
    },
    {
      "cell_type": "code",
      "source": [
        "class Persona:\n",
        "  def __init__(self, nombre):\n",
        "        self.nombre = nombre"
      ],
      "metadata": {
        "id": "GiJAEWgkyPfU"
      },
      "execution_count": null,
      "outputs": []
    },
    {
      "cell_type": "code",
      "source": [
        "class Cliente:\n",
        "  def __init__(self, nombre, email):\n",
        "    self.nombre = nombre\n",
        "    self.email = email\n",
        "    self.historial_compras = []\n",
        "\n",
        "  def comprar_libro(self, libro):\n",
        "    self.historial_compras.append(libro)\n",
        "    return f\"Libro {libro.titulo} comprado por {self.nombre}\"\n",
        "\n",
        "  def consultar_historial(self):\n",
        "     if not self.historial_compras:\n",
        "         return f\"{self.nombre} no tiene libros comprados aún.\"\n",
        "\n",
        "\n",
        "  def __str__(self):  # Este método se llama cuando usas print(cliente)\n",
        "        return f\"{self.nombre} ({self.email})\""
      ],
      "metadata": {
        "id": "WWSid-LurQXt"
      },
      "execution_count": null,
      "outputs": []
    },
    {
      "cell_type": "code",
      "source": [
        "class Trabajador(Persona):\n",
        "  def __init__(self, nombre, puesto):\n",
        "        super().__init__(nombre)\n",
        "        self.puesto = puesto\n",
        "\n",
        "  def registrar_venta(self, cliente, libros):\n",
        "        venta = Venta(cliente, libros)\n",
        "        venta.calcular_total()\n",
        "        print(f\"Venta registrada por {self.nombre} ({self.puesto})\")\n",
        "        return venta\n",
        "\n",
        "  def gestionar_inventarios(self):\n",
        "        return f\"{self.nombre} está gestionando el inventario.\""
      ],
      "metadata": {
        "id": "Nu6Vabs7yrhl"
      },
      "execution_count": null,
      "outputs": []
    },
    {
      "cell_type": "code",
      "source": [
        "class Venta:\n",
        "  def __init__(self, cliente, libros):\n",
        "        self.cliente = cliente\n",
        "        self.libros = libros\n",
        "        self.total = 0.0\n",
        "        self.fecha = date.today()\n",
        "\n",
        "  def calcular_total(self):\n",
        "        self.total = sum(libro.precio for libro in self.libros)\n",
        "        return self.total\n",
        "\n",
        "  def generar_ticket(self):\n",
        "        detalles = \"\\n\".join([f\"- {libro.titulo}: ${libro.precio:.2f}\" for libro in self.libros])\n",
        "        return (\n",
        "            f\"Ticket de venta - {self.fecha}\\n\"\n",
        "            f\"Cliente: {self.cliente.nombre} ({self.cliente.email})\\n\"\n",
        "            f\"Libros:\\n{detalles}\\n\"\n",
        "            f\"Total: ${self.total:.2f}\")"
      ],
      "metadata": {
        "id": "eFIVtVKqy7k3"
      },
      "execution_count": null,
      "outputs": []
    },
    {
      "cell_type": "code",
      "source": [
        "class Prestamo:\n",
        "  def __init__(self, libro, cliente, fecha_inicio,  fecha_devolucion, dias_extra):\n",
        "    self.cliente = cliente\n",
        "    self.fecha_inicio = fecha_inicio\n",
        "    self.fecha_devolucion = fecha_devolucion\n",
        "    self.dias_extra = dias_extra\n",
        "\n",
        "  def verificar_estado(self):\n",
        "    return f\" Libro: {self.libro}, para {self.cliente}, del {self.fecha_inicio} a {self.fecha_devolucion}\"\n",
        "\n",
        "  def renovar_prestamo(self):\n",
        "    dias_extra = int(input(\"Ingrese los dias extra: \"))\n",
        "    self.dias_extra = dias_extra\n",
        "    return f\" Libro: {self.libro}, para {self.cliente}, del {self.fecha_inicio} a {self.fecha_devolucion},\\n más {self.dias_extra: } dias extra\""
      ],
      "metadata": {
        "id": "F5soQAL3k8XS"
      },
      "execution_count": null,
      "outputs": []
    },
    {
      "cell_type": "code",
      "source": [
        "libro1 = Libro(\"Cien años de soledad\", \"Gabriel García Márquez\", \"9780307474728\", 350.00)\n",
        "libro2 = Libro(\"1984\", \"George Orwell\", \"9780451524935\", 220.50)\n",
        "\n",
        "print(libro1.mostrar_info())\n",
        "print(libro2.mostrar_info() )"
      ],
      "metadata": {
        "colab": {
          "base_uri": "https://localhost:8080/"
        },
        "id": "dCiIdXlM2NHk",
        "outputId": "b6875f29-a1ea-4341-aee1-e376e3417d16"
      },
      "execution_count": null,
      "outputs": [
        {
          "output_type": "stream",
          "name": "stdout",
          "text": [
            " Titulo: Cien años de soledad, por Gabriel García Márquez, - ISBN: 9780307474728, Precio: $350.0\n",
            " Titulo: 1984, por George Orwell, - ISBN: 9780451524935, Precio: $220.5\n"
          ]
        }
      ]
    },
    {
      "cell_type": "code",
      "source": [
        "cliente1 = Cliente(\"Agustín Nuñez\", \"agustin@example.com\")\n",
        "\n",
        "trabajador1 = Trabajador(\"Lucía Pérez\", \"Vendedora\")\n",
        "\n",
        "cliente1.comprar_libro(libro1)\n",
        "\n",
        "print(cliente1.consultar_historial())\n",
        "\n",
        "venta1 = trabajador1.registrar_venta(cliente1, [libro1, libro2])\n",
        "print(venta1.generar_ticket())\n",
        "\n",
        "prestamo1 = Prestamo(libro1, cliente1, \"10 de Septiembre del 2025\", \"14 de Septiembre del 2025\", 0)\n",
        "print(prestamo1.verificar_estado())\n",
        "\n",
        "print(trabajador1.gestionar_inventarios())"
      ],
      "metadata": {
        "colab": {
          "base_uri": "https://localhost:8080/"
        },
        "id": "e8BhPQWZsbuL",
        "outputId": "e9550018-a45b-424f-8455-04df6e1decc7"
      },
      "execution_count": null,
      "outputs": [
        {
          "output_type": "stream",
          "name": "stdout",
          "text": [
            "None\n",
            "Venta registrada por Lucía Pérez (Vendedora)\n",
            "Ticket de venta - 2025-09-11\n",
            "Cliente: Agustín Nuñez (agustin@example.com)\n",
            "Libros:\n",
            "- Cien años de soledad: $350.00\n",
            "- 1984: $220.50\n",
            "Total: $570.50\n",
            " Libro: Cien años de soledad por Gabriel García Márquez, para Agustín Nuñez (agustin@example.com), del 10 de Septiembre del 2025 a 14 de Septiembre del 2025\n",
            "Lucía Pérez está gestionando el inventario.\n"
          ]
        }
      ]
    }
  ]
}