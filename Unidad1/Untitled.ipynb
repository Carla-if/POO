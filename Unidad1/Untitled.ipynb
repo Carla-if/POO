{
  "nbformat": 4,
  "nbformat_minor": 0,
  "metadata": {
    "colab": {
      "provenance": [],
      "authorship_tag": "ABX9TyOWTrV9oQw/lohVznl7S3xR",
      "include_colab_link": true
    },
    "kernelspec": {
      "name": "python3",
      "display_name": "Python 3"
    },
    "language_info": {
      "name": "python"
    }
  },
  "cells": [
    {
      "cell_type": "markdown",
      "metadata": {
        "id": "view-in-github",
        "colab_type": "text"
      },
      "source": [
        "<a href=\"https://colab.research.google.com/github/Carla-if/POO/blob/main/Unidad1/Untitled.ipynb\" target=\"_parent\"><img src=\"https://colab.research.google.com/assets/colab-badge.svg\" alt=\"Open In Colab\"/></a>"
      ]
    },
    {
      "cell_type": "code",
      "execution_count": null,
      "metadata": {
        "id": "cefjtEejgPaA"
      },
      "outputs": [],
      "source": [
        "# Definir una clase libro\n",
        "# Cada objeto creado a  partir de esta clase\n",
        "# En phyton, self es una referencia al objeto actual (es decir, a si mismo).\n",
        "# Se utiliza para acceder a los atributos y metodos de la clase.\n",
        "\n",
        "#__init__() es un metodo especial llamado'constructor'.\n",
        "#Se ejecuta automaticamente cuando se crea una nueva instancia (objeto) de la clase\n",
        "# Sirve para inicializar los atributos del objeto con los valores que se le pasen.\n",
        "\n",
        "class libro:\n",
        "  def __init__(self, titulo, autor, isbn,  precio):  # Constructor de la clase\n",
        "    self.titulo = titulo\n",
        "    self.autor = autor\n",
        "    self.isbn = isbn\n",
        "    self.precio = precio\n",
        "\n",
        "  def mostrar_info(self):       # Metodo\n",
        "    return f\" Titulo: {self.titulo}, por {self.autor}, - ISBN: {self.isbn}, Precio: ${self.precio}\""
      ]
    },
    {
      "cell_type": "code",
      "source": [
        "# Crear una instancia concreta de una clase, con datos especificos\n",
        "\n",
        "libro1=libro(\"Cien años de soledad\", \"Gabriel Garcia Marquez\", \"9780307474728\", 350.00)\n",
        "libro2=libro(\"1984\", \"George Orwell\", \"9780451524935\", 220.50)"
      ],
      "metadata": {
        "id": "czSoKwMJkIzl"
      },
      "execution_count": null,
      "outputs": []
    },
    {
      "cell_type": "code",
      "source": [
        "print(libro1.mostrar_info())\n",
        "print(libro2.mostrar_info())"
      ],
      "metadata": {
        "colab": {
          "base_uri": "https://localhost:8080/"
        },
        "id": "MVhlD30Pk51M",
        "outputId": "c8a3d042-234b-4832-9bcb-00e68029661f"
      },
      "execution_count": null,
      "outputs": [
        {
          "output_type": "stream",
          "name": "stdout",
          "text": [
            " Titulo: Cien años de soledad, por Gabriel Garcia Marquez, - ISBN: 9780307474728, Precio: $350.0\n",
            " Titulo: 1984, por George Orwell, - ISBN: 9780451524935, Precio: $220.5\n"
          ]
        }
      ]
    },
    {
      "cell_type": "code",
      "source": [],
      "metadata": {
        "id": "F5soQAL3k8XS"
      },
      "execution_count": null,
      "outputs": []
    }
  ]
}