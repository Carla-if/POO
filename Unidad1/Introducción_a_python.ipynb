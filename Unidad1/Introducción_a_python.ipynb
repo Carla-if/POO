{
  "nbformat": 4,
  "nbformat_minor": 0,
  "metadata": {
    "colab": {
      "provenance": [],
      "authorship_tag": "ABX9TyO8LMAa1EWsWTtj8rCbNr/I",
      "include_colab_link": true
    },
    "kernelspec": {
      "name": "python3",
      "display_name": "Python 3"
    },
    "language_info": {
      "name": "python"
    }
  },
  "cells": [
    {
      "cell_type": "markdown",
      "metadata": {
        "id": "view-in-github",
        "colab_type": "text"
      },
      "source": [
        "<a href=\"https://colab.research.google.com/github/Carla-if/POO/blob/main/Unidad1/Introducci%C3%B3n_a_python.ipynb\" target=\"_parent\"><img src=\"https://colab.research.google.com/assets/colab-badge.svg\" alt=\"Open In Colab\"/></a>"
      ]
    },
    {
      "cell_type": "markdown",
      "source": [
        "![image](https://github.com/JoseGabriel-ITD/Probabilidad-y-Estadistica/blob/main/Cintilla2004.png?raw=true)\n",
        "\n",
        "# **Programación Orientada a Objetos**\n",
        "\n",
        "\n",
        "## **Unidad I.   Introducción a la Programación Orientada a Objetos**\n",
        "\n",
        "### Docente: José Gabriel Rodríguez Rivas\n",
        "\n",
        "### Alumno: Carla Iberia Carrillo Ferrer"
      ],
      "metadata": {
        "id": "oWPqhrWuK542"
      }
    },
    {
      "cell_type": "markdown",
      "source": [
        "# USO DE INPUT"
      ],
      "metadata": {
        "id": "1YBlPBY9krAQ"
      }
    },
    {
      "cell_type": "code",
      "execution_count": null,
      "metadata": {
        "colab": {
          "base_uri": "https://localhost:8080/"
        },
        "id": "zoau1hL6cQAh",
        "outputId": "e7f630e5-23ea-4e1c-a890-ec9939b6e6f8"
      },
      "outputs": [
        {
          "output_type": "stream",
          "name": "stdout",
          "text": [
            "Escribe tu nombre: jorge\n",
            "Tu nombre es:  jorge\n"
          ]
        }
      ],
      "source": [
        "variable = input(\"Escribe tu nombre: \")\n",
        "print(\"Tu nombre es: \", variable )"
      ]
    },
    {
      "cell_type": "code",
      "source": [
        "nom = input(\"¿Me puedes dar tu nombre por favor? \")\n",
        "apellido = input(\"¿Me puedes dar tu apellido por favor? \")\n",
        "print(\"Gracias.\")\n",
        "print(\"\\nTu nombre es: \" + nom + \" \" + apellido + \".\")\n",
        "print(\"\\nTu nombre es: \", nom, apellido, \".\")"
      ],
      "metadata": {
        "colab": {
          "base_uri": "https://localhost:8080/"
        },
        "id": "BScZlhaxdDHX",
        "outputId": "7b48f427-9322-48a6-895c-ef6764dce3e8"
      },
      "execution_count": null,
      "outputs": [
        {
          "output_type": "stream",
          "name": "stdout",
          "text": [
            "¿Me puedes dar tu nombre por favor?jorge\n",
            "¿Me puedes dar tu apellido por favor?hernandez\n",
            "Gracias.\n",
            "\n",
            "Tu nombre es: jorge hernandez.\n",
            "\n",
            "Tu nombre es:  jorge hernandez .\n"
          ]
        }
      ]
    },
    {
      "cell_type": "code",
      "source": [
        "# Marca error porque se debe convertir el tipo de dato.\n",
        "x = input(\"Dame un numero para multiplicar \")\n",
        "z = x * 5\n",
        "print(z)"
      ],
      "metadata": {
        "colab": {
          "base_uri": "https://localhost:8080/"
        },
        "id": "7EUZy1eweahG",
        "outputId": "07fde7db-1448-4bf7-fcda-9751d9c9ef17"
      },
      "execution_count": null,
      "outputs": [
        {
          "output_type": "stream",
          "name": "stdout",
          "text": [
            "Dame un numero para multiplicar2\n",
            "22222\n"
          ]
        }
      ]
    },
    {
      "cell_type": "code",
      "source": [
        "x = int(input(\"Dame un numero para multiplicar: \"))\n",
        "z = x * 5\n",
        "print(z)"
      ],
      "metadata": {
        "colab": {
          "base_uri": "https://localhost:8080/"
        },
        "id": "R_1LeUY3fQMO",
        "outputId": "94f29b44-c9f6-418c-98c5-da51cbdd0eb9"
      },
      "execution_count": null,
      "outputs": [
        {
          "output_type": "stream",
          "name": "stdout",
          "text": [
            "Dame un numero para multiplicar: 6\n",
            "30\n"
          ]
        }
      ]
    },
    {
      "cell_type": "code",
      "source": [
        "cateto_a = float(input(\"Inserta la longitud del primmer cateto: \"))\n",
        "cateto_b = float(input(\"Inserta la longitud del segundo cateto: \"))\n",
        "hipo = (cateto_a**2 + cateto_b**2)**.5\n",
        "print(\"La longitud de la hipotenusa es: \", hipo )"
      ],
      "metadata": {
        "colab": {
          "base_uri": "https://localhost:8080/"
        },
        "id": "ItBiQ2kAf35e",
        "outputId": "775f8462-b766-407a-f8df-5958500435f0"
      },
      "execution_count": null,
      "outputs": [
        {
          "output_type": "stream",
          "name": "stdout",
          "text": [
            "Inserta la longitud del primmer cateto: 10\n",
            "Inserta la longitud del segundo cateto: 5\n",
            "La longitud de la hipotenusa es:  11.180339887498949\n"
          ]
        }
      ]
    },
    {
      "cell_type": "markdown",
      "source": [
        "USO DEL IF"
      ],
      "metadata": {
        "id": "viIQAReLkjsi"
      }
    },
    {
      "cell_type": "code",
      "source": [
        "a = 3000\n",
        "b = 12500\n",
        "if b > a:\n",
        "  print(\"b es mayor que a\")\n",
        "else:\n",
        "  print(\"a es mayor que b\")\n",
        "\n",
        "  print(\"Fin del if\")"
      ],
      "metadata": {
        "colab": {
          "base_uri": "https://localhost:8080/"
        },
        "id": "Cpvp6-T8joeK",
        "outputId": "d68a99f2-a8dd-41e9-9fa3-ec3d43bcaac9"
      },
      "execution_count": null,
      "outputs": [
        {
          "output_type": "stream",
          "name": "stdout",
          "text": [
            "b es mayor que a\n"
          ]
        }
      ]
    },
    {
      "cell_type": "code",
      "source": [
        "a = 30000\n",
        "b = 12500\n",
        "if b > a:\n",
        "  print(\"b es mayor que a\")\n",
        "  print(b, \"es mayor que\", a)\n",
        "else:\n",
        "  print(\"a es mayor que b\")\n",
        "  print(a, \"es mayor que\", b)"
      ],
      "metadata": {
        "colab": {
          "base_uri": "https://localhost:8080/"
        },
        "id": "J8h9oNuNmMjP",
        "outputId": "30c8d3e6-fa31-454f-b584-8e6df732c9f3"
      },
      "execution_count": null,
      "outputs": [
        {
          "output_type": "stream",
          "name": "stdout",
          "text": [
            "a es mayor que b\n",
            "30000 es mayor que 12500\n"
          ]
        }
      ]
    },
    {
      "cell_type": "code",
      "source": [
        "a = 3000\n",
        "b = 3000\n",
        "if b > a:\n",
        "  print(\"b es mayor que a\")\n",
        "  print(\"b vale=>\", b)\n",
        "elif a==b:\n",
        "  print(\"a es igual que b\")\n",
        "  print(\"ay b valen =>\", a)\n",
        "else:\n",
        "  print(\"a es mayor que b\")\n",
        "  print(\"a y b valen =>\", a)\n",
        "print(\"Fin del if\")"
      ],
      "metadata": {
        "colab": {
          "base_uri": "https://localhost:8080/"
        },
        "id": "owcC1-Ptmqw-",
        "outputId": "8d3d043e-eb64-409d-e0dd-252b66e1af42"
      },
      "execution_count": null,
      "outputs": [
        {
          "output_type": "stream",
          "name": "stdout",
          "text": [
            "a es igual que b\n",
            "ay b valen => 3000\n",
            "Fin del if\n"
          ]
        }
      ]
    },
    {
      "cell_type": "code",
      "source": [
        "# if y if... else en version corta o simplificada\n",
        "# del lado izquierdo es cunado es verdadera la condicion\n",
        "\n",
        "x = 50\n",
        "y = 60\n",
        "\n",
        "print(\"x es mayor que y\") if (x > y) else print(\"y es mayor que x\")"
      ],
      "metadata": {
        "colab": {
          "base_uri": "https://localhost:8080/"
        },
        "id": "_fW9tbGHoYhf",
        "outputId": "491cf5f8-4782-473c-b74a-7fe572e8ec90"
      },
      "execution_count": null,
      "outputs": [
        {
          "output_type": "stream",
          "name": "stdout",
          "text": [
            "y es mayor que x\n"
          ]
        }
      ]
    },
    {
      "cell_type": "markdown",
      "source": [
        "CICLOS O BUCLES"
      ],
      "metadata": {
        "id": "AsM5_GU0o79n"
      }
    },
    {
      "cell_type": "code",
      "source": [
        "i = 1\n",
        "while i <= 10:\n",
        "  print(i)\n",
        "  i += 1\n",
        "print(\"fuera del while\")"
      ],
      "metadata": {
        "colab": {
          "base_uri": "https://localhost:8080/"
        },
        "id": "pEcxmPntpAIe",
        "outputId": "6fc798e5-5965-4d1e-cf80-93f2f235768e"
      },
      "execution_count": null,
      "outputs": [
        {
          "output_type": "stream",
          "name": "stdout",
          "text": [
            "1\n",
            "2\n",
            "3\n",
            "4\n",
            "5\n",
            "6\n",
            "7\n",
            "8\n",
            "9\n",
            "10\n",
            "fuera del while\n"
          ]
        }
      ]
    },
    {
      "cell_type": "markdown",
      "source": [],
      "metadata": {
        "id": "t5sN4TtUqSf3"
      }
    },
    {
      "cell_type": "code",
      "source": [
        "BREAK"
      ],
      "metadata": {
        "id": "L7q2XBs9qVQe"
      },
      "execution_count": null,
      "outputs": []
    },
    {
      "cell_type": "code",
      "source": [
        "i = 1\n",
        "while i <= 1000:\n",
        "  print(i)\n",
        "  if i == 10:\n",
        "    print(\"Entra al if\")\n",
        "    break\n",
        "  i += 1\n",
        "print(\"fuera del while\")"
      ],
      "metadata": {
        "colab": {
          "base_uri": "https://localhost:8080/"
        },
        "id": "bpzrR3iZqXhm",
        "outputId": "6f379191-7be5-4210-f454-9f69fb3d8a46"
      },
      "execution_count": null,
      "outputs": [
        {
          "output_type": "stream",
          "name": "stdout",
          "text": [
            "1\n",
            "2\n",
            "3\n",
            "4\n",
            "5\n",
            "6\n",
            "7\n",
            "8\n",
            "9\n",
            "10\n",
            "Entra al if\n",
            "fuera del while\n"
          ]
        }
      ]
    },
    {
      "cell_type": "code",
      "source": [
        "while(True):\n",
        "  print(\"\"\" Selecciona una opcion\n",
        "  1) Opcion 1\n",
        "  2) Opcion 2\n",
        "  3) Salir \"\"\")\n",
        "  opcion = input(\"¿Cual es la opcion que deseas?: \")\n",
        "  if opcion == \"1\":\n",
        "    print(\"Seleccionaste la opcion 1 \\n\")\n",
        "  elif opcion == \"2\":\n",
        "    print(\"Seleccionaste la opcion 2\\n\")\n",
        "  elif opcion == \"3\":\n",
        "    print(\"Seleccionaste la Opcion Salir\")\n",
        "    break\n",
        "  else:\n",
        "    print(\"Opcion desconocida, vuelve a intentarlo\")\n",
        "  print(\"Fuera del ciclo\")"
      ],
      "metadata": {
        "colab": {
          "base_uri": "https://localhost:8080/"
        },
        "id": "ciOl_9nrrJ0m",
        "outputId": "5c279d0e-687b-484b-d2f8-4666c25d1aaf"
      },
      "execution_count": null,
      "outputs": [
        {
          "output_type": "stream",
          "name": "stdout",
          "text": [
            " Selecciona una opcion\n",
            "  1) Opcion 1 \n",
            "  2) Opcion 2\n",
            "  3) Salir \n",
            "¿Cual es la opcion que deseas?: 6\n",
            "Opcion desconocida, vuelve a intentarlo\n",
            "Fuera del ciclo\n",
            " Selecciona una opcion\n",
            "  1) Opcion 1 \n",
            "  2) Opcion 2\n",
            "  3) Salir \n",
            "¿Cual es la opcion que deseas?: 3\n",
            "Seleccionaste la Opcion Salir\n"
          ]
        }
      ]
    },
    {
      "cell_type": "markdown",
      "source": [
        "Ciclo For"
      ],
      "metadata": {
        "id": "K3UjHsE8u5LK"
      }
    },
    {
      "cell_type": "code",
      "source": [
        "# Si no se especifica un rango inicial por default empieza en 0\n",
        "# cuando se establece el limite o rango final siempre sera ese valor menos 1\n",
        "for x in range(5):\n",
        "  print(x)"
      ],
      "metadata": {
        "colab": {
          "base_uri": "https://localhost:8080/"
        },
        "id": "7gWi5xe0uwZG",
        "outputId": "bc30a038-b08b-4e93-b183-032a7d0e8c83"
      },
      "execution_count": null,
      "outputs": [
        {
          "output_type": "stream",
          "name": "stdout",
          "text": [
            "0\n",
            "1\n",
            "2\n",
            "3\n",
            "4\n"
          ]
        }
      ]
    },
    {
      "cell_type": "code",
      "source": [
        "for z in range(2,5):\n",
        "  print(z)"
      ],
      "metadata": {
        "colab": {
          "base_uri": "https://localhost:8080/"
        },
        "id": "RJwM0h1gvh43",
        "outputId": "ef12fb22-a24f-4f74-d07f-2755456864f3"
      },
      "execution_count": null,
      "outputs": [
        {
          "output_type": "stream",
          "name": "stdout",
          "text": [
            "2\n",
            "3\n",
            "4\n"
          ]
        }
      ]
    },
    {
      "cell_type": "code",
      "source": [
        "# tercer parametro para el incremento\n",
        "for z in range(1, 25, 2):\n",
        "  print(z)"
      ],
      "metadata": {
        "colab": {
          "base_uri": "https://localhost:8080/"
        },
        "id": "W12KepiVv9vN",
        "outputId": "e247d249-4ef4-469b-fd0c-6a4736c1b172"
      },
      "execution_count": null,
      "outputs": [
        {
          "output_type": "stream",
          "name": "stdout",
          "text": [
            "1\n",
            "3\n",
            "5\n",
            "7\n",
            "9\n",
            "11\n",
            "13\n",
            "15\n",
            "17\n",
            "19\n",
            "21\n",
            "23\n"
          ]
        }
      ]
    },
    {
      "cell_type": "markdown",
      "source": [
        "Break, continue y else"
      ],
      "metadata": {
        "id": "x0xW7TOOwjAr"
      }
    },
    {
      "cell_type": "code",
      "source": [
        "print(\"La instruccion break\")\n",
        "variablez = True # variable de tipotipoi booleana\n",
        "for i in range(1,6):\n",
        "  print(\"Esto es un print dentro del for\")\n",
        "  if variablez:\n",
        "    print(\"Entro al if\")\n",
        "    break\n",
        "print(\"Fuera del for\")\n",
        "\n",
        "# continue- ejemplo\n",
        "print(\"\\nLa instruccion continue:\")\n",
        "for i in range(1, 6):\n",
        "  if i==3:\n",
        "    continue\n",
        "    print(\"Dentro del bucle.\", i)\n",
        "print(\"Fuera del bucle\")"
      ],
      "metadata": {
        "colab": {
          "base_uri": "https://localhost:8080/"
        },
        "id": "toGYwSnAwpw7",
        "outputId": "cd58de6e-fe90-45ce-bc09-c98817ffe250"
      },
      "execution_count": null,
      "outputs": [
        {
          "output_type": "stream",
          "name": "stdout",
          "text": [
            "La instruccion break\n",
            "Esto es un print dentro del for\n",
            "Entro al if\n",
            "Fuera del for\n",
            "\n",
            "La instruccion continue:\n",
            "Fuera del bucle\n"
          ]
        }
      ]
    },
    {
      "cell_type": "markdown",
      "source": [],
      "metadata": {
        "id": "_SiJdHIv0ayt"
      }
    },
    {
      "cell_type": "code",
      "source": [
        "frutas = [\"platano\", \"Naranja\", \"Manzana\" ]\n",
        "for x in frutas:\n",
        "  print(x)\n",
        "  if x == \" naranja\":\n",
        "     break"
      ],
      "metadata": {
        "colab": {
          "base_uri": "https://localhost:8080/"
        },
        "id": "yrQlU8KjzQqH",
        "outputId": "9076a889-1fc3-444c-98b9-07bdb79846db"
      },
      "execution_count": null,
      "outputs": [
        {
          "output_type": "stream",
          "name": "stdout",
          "text": [
            "platano\n",
            "Naranja\n",
            "Manzana\n"
          ]
        }
      ]
    },
    {
      "cell_type": "code",
      "source": [
        "n = 0\n",
        "while n != 3:\n",
        "  print(n)\n",
        "  n += 1\n",
        "else:\n",
        "  print(n, \"else\")\n",
        "print() # Para generar una linea en blanco\n",
        "for i in range(0, 3):\n",
        "    print(i)\n",
        "else:\n",
        "  print(i, \"else:\")"
      ],
      "metadata": {
        "colab": {
          "base_uri": "https://localhost:8080/"
        },
        "id": "GHbKJSlSzu4P",
        "outputId": "e2b13b21-b4f3-445d-9843-c79994e5a47d"
      },
      "execution_count": null,
      "outputs": [
        {
          "output_type": "stream",
          "name": "stdout",
          "text": [
            "0\n",
            "1\n",
            "2\n",
            "3 else\n",
            "\n",
            "0\n",
            "1\n",
            "2\n",
            "2 else:\n"
          ]
        }
      ]
    },
    {
      "cell_type": "markdown",
      "source": [
        "Funciones"
      ],
      "metadata": {
        "id": "0EE6cijFtN8_"
      }
    },
    {
      "cell_type": "code",
      "source": [
        "def funcion_saludar():\n",
        "  print(\"Hola mundo desde mi funcion\")"
      ],
      "metadata": {
        "id": "hGdyV1UO2Nc4"
      },
      "execution_count": null,
      "outputs": []
    },
    {
      "cell_type": "code",
      "source": [
        "funcion_saludar()"
      ],
      "metadata": {
        "colab": {
          "base_uri": "https://localhost:8080/"
        },
        "id": "Ro8w5fGB28mg",
        "outputId": "8bc65c0a-8af1-4a50-9f3a-a81d85bf8b41"
      },
      "execution_count": null,
      "outputs": [
        {
          "output_type": "stream",
          "name": "stdout",
          "text": [
            "Hola mundo desde mi funcion\n"
          ]
        }
      ]
    },
    {
      "cell_type": "code",
      "source": [
        "def tablas_multiplicar(x):\n",
        "  for z in range(1, 11):\n",
        "    print(x, \"por\", z, \"=\", x * z)\n",
        "  print(\"\\nfin de la funcion\")\n"
      ],
      "metadata": {
        "id": "yaE5oqws3fBw"
      },
      "execution_count": null,
      "outputs": []
    },
    {
      "cell_type": "code",
      "source": [
        "tablas_multiplicar(2)"
      ],
      "metadata": {
        "colab": {
          "base_uri": "https://localhost:8080/"
        },
        "id": "XHiZA5YonkeP",
        "outputId": "18dfdf1d-6fde-4ce8-c085-d884985ef0b5"
      },
      "execution_count": null,
      "outputs": [
        {
          "output_type": "stream",
          "name": "stdout",
          "text": [
            "2 por 1 = 2\n",
            "2 por 2 = 4\n",
            "2 por 3 = 6\n",
            "2 por 4 = 8\n",
            "2 por 5 = 10\n",
            "2 por 6 = 12\n",
            "2 por 7 = 14\n",
            "2 por 8 = 16\n",
            "2 por 9 = 18\n",
            "2 por 10 = 20\n",
            "\n",
            "fin de la funcion\n"
          ]
        }
      ]
    },
    {
      "cell_type": "code",
      "source": [
        "def presentar (nombre, apellido, edad):\n",
        "  print(\"Hola, mi nombre es\", nombre, apellido,\" y mi edad es\", edad)\n",
        "\n",
        "presentar (\"luke\", \"Skywalker\", 40)\n",
        "presentar(\"Clark\", \"Kent\", 35 )\n",
        "presentar(\"Juan\", 35, \"Penas\")"
      ],
      "metadata": {
        "colab": {
          "base_uri": "https://localhost:8080/"
        },
        "id": "dk57_c9_4GR3",
        "outputId": "1a7ec1a5-eb54-4f2e-8541-98c8de68e4f1"
      },
      "execution_count": null,
      "outputs": [
        {
          "output_type": "stream",
          "name": "stdout",
          "text": [
            "Hola, mi nombre es luke Skywalker  y mi edad es 40\n",
            "Hola, mi nombre es Clark Kent  y mi edad es 35\n",
            "Hola, mi nombre es Juan 35  y mi edad es Penas\n"
          ]
        }
      ]
    },
    {
      "cell_type": "code",
      "source": [
        "def presentar(nombre, apellido = \"Rodriguez\"):\n",
        "  print(\"Hola, mi nombre es\", nombre, apellido)\n",
        "\n",
        "presentar(\"Juan\", \"Salazar\")\n",
        "presentar(\"Juan\")"
      ],
      "metadata": {
        "colab": {
          "base_uri": "https://localhost:8080/"
        },
        "id": "CDm6axdI5vnr",
        "outputId": "67c0638f-4f19-43a8-88ae-6600000a1a0f"
      },
      "execution_count": null,
      "outputs": [
        {
          "output_type": "stream",
          "name": "stdout",
          "text": [
            "Hola, mi nombre es Juan Salazar\n",
            "Hola, mi nombre es Juan Rodriguez\n"
          ]
        }
      ]
    },
    {
      "cell_type": "code",
      "source": [
        " def presentar(nombre, apellido):\n",
        "  print(\"Hola, mi nombre es\", nombre, apellido)\n",
        "\n",
        "presentar(nombre = \"James\", apellido = \"Bond\")\n",
        "presentar(apellido = \"Skywalker\", nombre = \"Luke\")"
      ],
      "metadata": {
        "colab": {
          "base_uri": "https://localhost:8080/"
        },
        "id": "jEqjTTMp5vyx",
        "outputId": "9b3d329a-7ece-4660-be6a-d2b80df0c9f5"
      },
      "execution_count": null,
      "outputs": [
        {
          "output_type": "stream",
          "name": "stdout",
          "text": [
            "Hola, mi nombre es James Bond\n",
            "Hola, mi nombre es Luke Skywalker\n"
          ]
        }
      ]
    },
    {
      "cell_type": "markdown",
      "source": [
        "INSTRUCCION RETURN"
      ],
      "metadata": {
        "id": "MOLHY6b27W5K"
      }
    },
    {
      "cell_type": "code",
      "source": [
        "def CalcularDoble(qaz):\n",
        "  qaz = qaz * 2\n",
        "  return qaz"
      ],
      "metadata": {
        "id": "mhzE-Vz46wSC"
      },
      "execution_count": null,
      "outputs": []
    },
    {
      "cell_type": "code",
      "source": [
        "# Asignar el resultado de la division a una variable\n",
        "Valor_al_doble = CalcularDoble(5)\n",
        "print(Valor_al_doble)"
      ],
      "metadata": {
        "colab": {
          "base_uri": "https://localhost:8080/"
        },
        "id": "6Yd3saGQ73p0",
        "outputId": "7d707f5a-414e-4c8d-e1ce-15ab15a0a028"
      },
      "execution_count": null,
      "outputs": [
        {
          "output_type": "stream",
          "name": "stdout",
          "text": [
            "10\n"
          ]
        }
      ]
    },
    {
      "cell_type": "code",
      "source": [
        "# la variable no existe, solo existe dentro de la funcion\n",
        "\n",
        "def miFuncion():\n",
        "  variableX = 123\n",
        "\n",
        "miFuncion()\n",
        "print(variableX)"
      ],
      "metadata": {
        "colab": {
          "base_uri": "https://localhost:8080/",
          "height": 176
        },
        "id": "x6dnQbMS8gTS",
        "outputId": "e66c4a80-5bef-42e9-8d15-01ed929f2925"
      },
      "execution_count": null,
      "outputs": [
        {
          "output_type": "error",
          "ename": "NameError",
          "evalue": "name 'variableX' is not defined",
          "traceback": [
            "\u001b[0;31m---------------------------------------------------------------------------\u001b[0m",
            "\u001b[0;31mNameError\u001b[0m                                 Traceback (most recent call last)",
            "\u001b[0;32m/tmp/ipython-input-829545177.py\u001b[0m in \u001b[0;36m<cell line: 0>\u001b[0;34m()\u001b[0m\n\u001b[1;32m      5\u001b[0m \u001b[0;34m\u001b[0m\u001b[0m\n\u001b[1;32m      6\u001b[0m \u001b[0mmiFuncion\u001b[0m\u001b[0;34m(\u001b[0m\u001b[0;34m)\u001b[0m\u001b[0;34m\u001b[0m\u001b[0;34m\u001b[0m\u001b[0m\n\u001b[0;32m----> 7\u001b[0;31m \u001b[0mprint\u001b[0m\u001b[0;34m(\u001b[0m\u001b[0mvariableX\u001b[0m\u001b[0;34m)\u001b[0m\u001b[0;34m\u001b[0m\u001b[0;34m\u001b[0m\u001b[0m\n\u001b[0m",
            "\u001b[0;31mNameError\u001b[0m: name 'variableX' is not defined"
          ]
        }
      ]
    },
    {
      "cell_type": "code",
      "source": [
        "def miFuncion():\n",
        "  variable = 2\n",
        "  print(\"¿Valor de la variable?\", variable)\n",
        "\n",
        "variable = 1\n",
        "print(\"Valor de la variable\", variable)\n",
        "miFuncion()\n",
        "print(\"Valor de la variable\", variable)"
      ],
      "metadata": {
        "colab": {
          "base_uri": "https://localhost:8080/"
        },
        "id": "QiYY7xAD9WNk",
        "outputId": "3775ffee-e65f-4a9b-83b2-628c4232360e"
      },
      "execution_count": null,
      "outputs": [
        {
          "output_type": "stream",
          "name": "stdout",
          "text": [
            "Valor de la variable 1\n",
            "¿Valor de la variable? 2\n",
            "Valor de la variable 1\n"
          ]
        }
      ]
    },
    {
      "cell_type": "code",
      "source": [
        "def miFuncion():\n",
        "  global variable\n",
        "  variable = 2\n",
        "  print(\"¿Valor de la variable?\")\n",
        "\n",
        "variable = 1\n",
        "print(\"Valor de la variable\", variable)\n",
        "miFuncion()\n",
        "print(\"Valor de la variable\", variable)"
      ],
      "metadata": {
        "colab": {
          "base_uri": "https://localhost:8080/"
        },
        "id": "3yv2VNel-GGe",
        "outputId": "f700e168-4ede-41c0-ea09-74eee6ba6f4e"
      },
      "execution_count": null,
      "outputs": [
        {
          "output_type": "stream",
          "name": "stdout",
          "text": [
            "Valor de la variable 1\n",
            "¿Valor de la variable?\n",
            "Valor de la variable 2\n"
          ]
        }
      ]
    }
  ]
}